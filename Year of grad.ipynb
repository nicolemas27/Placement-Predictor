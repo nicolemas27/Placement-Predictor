{
 "cells": [
  {
   "cell_type": "code",
   "execution_count": 1,
   "id": "e323a18a",
   "metadata": {},
   "outputs": [],
   "source": [
    "import pandas as pd\n",
    "import numpy as np\n",
    "from datetime import datetime\n"
   ]
  },
  {
   "cell_type": "code",
   "execution_count": 2,
   "id": "5565b12f",
   "metadata": {},
   "outputs": [],
   "source": [
    "lead_data = pd.read_excel('Final Lead Data.xlsx')\n",
    "\n"
   ]
  },
  {
   "cell_type": "code",
   "execution_count": 3,
   "id": "3284fca2",
   "metadata": {},
   "outputs": [
    {
     "data": {
      "text/plain": [
       "ID                                                           0\n",
       "First Name                                                   0\n",
       "Email                                                        0\n",
       "Gender                                                    5103\n",
       "City                                                      5248\n",
       "Created                                                      0\n",
       "Position                                                  5297\n",
       "New College Name                                          3485\n",
       "Colleges                                                  3622\n",
       "Academic Year                                             2785\n",
       "Branch/ Specialisation                                    2783\n",
       "Other Branch                                              4659\n",
       "What is your current academic year?                       5172\n",
       "Company Name/ College Name                                5065\n",
       "Would you like to know more about us and our programs?       0\n",
       "Are you interested in knowing more about our events?         0\n",
       "Have you recommended Cloud Counselage to anyone?             0\n",
       "How did you come to know about this event?                5148\n",
       "dtype: int64"
      ]
     },
     "execution_count": 3,
     "metadata": {},
     "output_type": "execute_result"
    }
   ],
   "source": [
    "lead_data.isnull().sum()"
   ]
  },
  {
   "cell_type": "code",
   "execution_count": 4,
   "id": "0fce9486",
   "metadata": {},
   "outputs": [
    {
     "name": "stdout",
     "output_type": "stream",
     "text": [
      "New Excel file 'output/Year of Graduation.xlsx' has been generated.\n"
     ]
    }
   ],
   "source": [
    "program_duration = 4\n",
    "\n",
    "lead_data['Created'] = pd.to_datetime(lead_data['Created'], format='%m/%d/%Y %I:%M:%S %p')\n",
    "\n",
    "def cal_graduation_year(row):\n",
    "    if pd.notna(row['Academic Year']):\n",
    "        return 4 - row['Academic Year'] + row['Created'].year\n",
    "    else:\n",
    "        # If Academic Year is missing\n",
    "        return row['Created'].year + program_duration\n",
    "\n",
    "lead_data['Graduation Year'] = lead_data.apply(cal_graduation_year, axis=1)\n",
    "\n",
    "new_lead_data = lead_data[['ID','First Name', 'Email', 'Graduation Year']]\n",
    "\n",
    "new_file_path = 'output/Year of Graduation.xlsx'\n",
    "\n",
    "new_lead_data.to_excel(new_file_path, index=False)\n",
    "\n",
    "print(f\"New Excel file '{new_file_path}' has been generated.\")\n"
   ]
  },
  {
   "cell_type": "code",
   "execution_count": null,
   "id": "9425cff0",
   "metadata": {},
   "outputs": [],
   "source": []
  }
 ],
 "metadata": {
  "kernelspec": {
   "display_name": "Python 3 (ipykernel)",
   "language": "python",
   "name": "python3"
  },
  "language_info": {
   "codemirror_mode": {
    "name": "ipython",
    "version": 3
   },
   "file_extension": ".py",
   "mimetype": "text/x-python",
   "name": "python",
   "nbconvert_exporter": "python",
   "pygments_lexer": "ipython3",
   "version": "3.9.13"
  }
 },
 "nbformat": 4,
 "nbformat_minor": 5
}
